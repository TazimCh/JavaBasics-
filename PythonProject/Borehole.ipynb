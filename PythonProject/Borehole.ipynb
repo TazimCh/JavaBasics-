{
 "cells": [
  {
   "cell_type": "markdown",
   "metadata": {},
   "source": [
    "# Boreholes data analysis  "
   ]
  },
  {
   "cell_type": "markdown",
   "metadata": {},
   "source": [
    "Data analysis of the borehole located in Australia. The measurement was taken in 1964"
   ]
  },
  {
   "cell_type": "code",
   "execution_count": 19,
   "metadata": {
    "collapsed": true
   },
   "outputs": [],
   "source": [
    "import pandas as pd\n",
    "%matplotlib inline\n",
    "data1 = pd.read_csv('DataB/data1964.csv')\n",
    "#data1"
   ]
  },
  {
   "cell_type": "code",
   "execution_count": 20,
   "metadata": {
    "collapsed": true
   },
   "outputs": [],
   "source": [
    "del data1['Unnamed: 2']\n",
    "data1.rename(columns = {'\\ttemp':'temp'}, inplace=True)"
   ]
  },
  {
   "cell_type": "markdown",
   "metadata": {},
   "source": [
    "Testing the correlation between the depth with the temperature. There is an high correlation "
   ]
  },
  {
   "cell_type": "code",
   "execution_count": 21,
   "metadata": {},
   "outputs": [
    {
     "data": {
      "text/plain": [
       "0.9993711539984198"
      ]
     },
     "execution_count": 21,
     "metadata": {},
     "output_type": "execute_result"
    }
   ],
   "source": [
    "data1['depth_m'].corr(data1.temp)"
   ]
  },
  {
   "cell_type": "code",
   "execution_count": 22,
   "metadata": {},
   "outputs": [
    {
     "data": {
      "image/png": "[encoded data removed]",
      "text/plain": [
       "<matplotlib.figure.Figure at 0x1e0defd0400>"
      ]
     },
     "metadata": {},
     "output_type": "display_data"
    }
   ],
   "source": [
    "import matplotlib.pyplot as plt\n",
    "Dlistx1 = data1.depth_m.tolist()\n",
    "Dlisty1 = data1.temp.tolist()\n",
    "plt.plot(Dlistx1, Dlisty1, '.');\n",
    "plt.ylabel('Temperature');\n",
    "plt.xlabel('Depth');"
   ]
  },
  {
   "cell_type": "markdown",
   "metadata": {},
   "source": [
    "The graph shows a strong linear correlation. Therefore, it can be modelled with linear regression to calculate the geothermal gradient."
   ]
  },
  {
   "cell_type": "code",
   "execution_count": 23,
   "metadata": {},
   "outputs": [
    {
     "name": "stdout",
     "output_type": "stream",
     "text": [
      "[ 0.01526204]\n"
     ]
    },
    {
     "data": {
      "image/png": "[encoded data removed]",
      "text/plain": [
       "<matplotlib.figure.Figure at 0x1e0dca1a3c8>"
      ]
     },
     "metadata": {},
     "output_type": "display_data"
    }
   ],
   "source": [
    "from sklearn.linear_model import LinearRegression\n",
    "import numpy as np\n",
    "model = LinearRegression(normalize=True)\n",
    "\n",
    "x1 = np.asarray(Dlistx1)\n",
    "\n",
    "X1=x[:, np.newaxis]\n",
    "model.fit(X,Dlisty1)\n",
    "y_fit = model.predict(X1)\n",
    "plt.plot(Dlistx1, Dlisty1, 'o'); \n",
    "plt.plot(X,y_fit);\n",
    "plt.ylabel('Temperature');\n",
    "plt.xlabel('Depth');\n",
    "print(model.coef_)"
   ]
  },
  {
   "cell_type": "markdown",
   "metadata": {},
   "source": [
    "We can test the accuracy of the model but we predict a very high accuracy. "
   ]
  },
  {
   "cell_type": "code",
   "execution_count": 24,
   "metadata": {},
   "outputs": [
    {
     "data": {
      "text/plain": [
       "0.99701187328755259"
      ]
     },
     "execution_count": 24,
     "metadata": {},
     "output_type": "execute_result"
    }
   ],
   "source": [
    "from sklearn.cross_validation import train_test_split\n",
    "x_train, x_test, y_train, y_test = train_test_split(X, Dlisty1, test_size=0.2, random_state=4);\n",
    "model =LinearRegression(normalize=True)\n",
    "model.fit(x_train, y_train)\n",
    "y_fit = model.predict(x_test)\n",
    "\n",
    "#plt.plot(X, Dlisty, 'o')\n",
    "#plt.plot(x_test, y_fit);\n",
    "model.score(x_test, y_test )"
   ]
  },
  {
   "cell_type": "markdown",
   "metadata": {},
   "source": [
    "We have a score of 99%"
   ]
  },
  {
   "cell_type": "markdown",
   "metadata": {},
   "source": [
    "Now it is possible to apply the same model, to calculate the geothermal gradient of the australian borehole over a period of time: 1964, 1970, 1971, 1974, 1975, 1977 and 1980. "
   ]
  },
  {
   "cell_type": "code",
   "execution_count": 25,
   "metadata": {
    "collapsed": true
   },
   "outputs": [],
   "source": [
    "import pandas as pd\n",
    "%matplotlib inline\n",
    "data1 = pd.read_csv('DataB/data1964.csv')#\n",
    "data2 = pd.read_csv('DataB/data1970.csv')#\n",
    "data3 = pd.read_csv('DataB/data1971.csv')#\n",
    "\n",
    "data4 = pd.read_csv('DataB/data1974.csv')#\n",
    "data5 = pd.read_csv('DataB/data1975.csv')#\n",
    "data6 = pd.read_csv('DataB/data1977.csv')#\n",
    "\n",
    "data7 = pd.read_csv('DataB/data1980.csv')#\n"
   ]
  },
  {
   "cell_type": "code",
   "execution_count": 26,
   "metadata": {
    "collapsed": true
   },
   "outputs": [],
   "source": [
    "\n",
    "del data2['Unnamed: 2']\n",
    "del data3['Unnamed: 2']\n",
    "\n",
    "del data4['Unnamed: 2']\n",
    "del data5['Unnamed: 2']\n",
    "del data6['Unnamed: 2']\n",
    "\n",
    "del data7['Unnamed: 2']\n",
    "\n"
   ]
  },
  {
   "cell_type": "code",
   "execution_count": 27,
   "metadata": {
    "collapsed": true
   },
   "outputs": [],
   "source": [
    "\n",
    "data2.rename(columns = {'\\ttemp':'temp'}, inplace=True)\n",
    "data3.rename(columns = {'\\ttemp':'temp'}, inplace=True)\n",
    "\n",
    "data4.rename(columns = {'\\ttemp':'temp'}, inplace=True)\n",
    "data5.rename(columns = {'\\ttemp':'temp'}, inplace=True)\n",
    "data6.rename(columns = {'\\ttemp':'temp'}, inplace=True)\n",
    "\n",
    "data7.rename(columns = {'\\ttemp':'temp'}, inplace=True)\n"
   ]
  },
  {
   "cell_type": "code",
   "execution_count": 28,
   "metadata": {},
   "outputs": [],
   "source": [
    "from sklearn.linear_model import LinearRegression\n",
    "import matplotlib.pyplot as plt\n",
    "import numpy as np\n",
    "\n",
    "model = LinearRegression(normalize=True)\n",
    "\n",
    "\n",
    "\n",
    "\n",
    "Dlistx2 = data2.depth_m.tolist()\n",
    "Dlisty2 = data2.temp.tolist()\n",
    "\n",
    "Dlistx3 = data3.depth_m.tolist()\n",
    "Dlisty3 = data3.temp.tolist()\n",
    "\n",
    "\n",
    "\n",
    "Dlistx4 = data4.depth_m.tolist()\n",
    "Dlisty4 = data4.temp.tolist()\n",
    "\n",
    "\n",
    "Dlistx5 = data5.depth_m.tolist()\n",
    "Dlisty5 = data5.temp.tolist()\n",
    "\n",
    "Dlistx6 = data6.depth_m.tolist()\n",
    "Dlisty6 = data6.temp.tolist()\n",
    "\n",
    "\n",
    "\n",
    "Dlistx7 = data7.depth_m.tolist()\n",
    "Dlisty7 = data7.temp.tolist()\n",
    "\n",
    "\n",
    "\n",
    "\n",
    "\n",
    "x2 = np.asarray(Dlistx2)\n",
    "x3 = np.asarray(Dlistx3)\n",
    "\n",
    "x4 = np.asarray(Dlistx4)\n",
    "x5 = np.asarray(Dlistx5)\n",
    "x6 = np.asarray(Dlistx6)\n",
    "\n",
    "x7 = np.asarray(Dlistx7)\n",
    "\n",
    "\n",
    "\n",
    "\n",
    "X2=x2[:, np.newaxis]\n",
    "X3=x3[:, np.newaxis]\n",
    "\n",
    "X4=x4[:, np.newaxis]\n",
    "X5=x5[:, np.newaxis]\n",
    "X6=x6[:, np.newaxis]\n",
    "\n",
    "X7=x7[:, np.newaxis]\n",
    "\n",
    "\n",
    "\n",
    "model.fit(X1,Dlisty1)\n",
    "setdata1=model.coef_\n",
    "\n",
    "model.fit(X2,Dlisty2)\n",
    "setdata2=model.coef_\n",
    "\n",
    "model.fit(X3,Dlisty3)\n",
    "setdata3=model.coef_\n",
    "\n",
    "\n",
    "\n",
    "model.fit(X4,Dlisty4)\n",
    "setdata4=model.coef_\n",
    "\n",
    "model.fit(X5,Dlisty5)\n",
    "setdata5=model.coef_\n",
    "\n",
    "model.fit(X6,Dlisty6)\n",
    "setdata6=model.coef_\n",
    "\n",
    "\n",
    "\n",
    "model.fit(X7,Dlisty7)\n",
    "setdata7=model.coef_\n",
    "\n",
    "\n",
    "\n",
    "\n",
    "\n"
   ]
  },
  {
   "cell_type": "code",
   "execution_count": 29,
   "metadata": {},
   "outputs": [
    {
     "name": "stdout",
     "output_type": "stream",
     "text": [
      "[ 0.01526204] [ 0.01627011] [ 0.01956692] [ 0.0228279] [ 0.02293327] [ 0.03503116] [ 0.04383526]\n"
     ]
    }
   ],
   "source": [
    "print (setdata1, setdata2, setdata3, setdata4, setdata5, setdata6, setdata7)\n"
   ]
  },
  {
   "cell_type": "markdown",
   "metadata": {},
   "source": [
    "These are the various gradients from 1964 to 1980. It is possible to create a table of data and see how the gradient is changing overtime.  "
   ]
  },
  {
   "cell_type": "code",
   "execution_count": 30,
   "metadata": {
    "collapsed": true
   },
   "outputs": [],
   "source": [
    "data = {\n",
    "    \"Year\": [1964,1970,1971,1974,1975,1977,1980],\n",
    "    \"Gradients\":[0.01526204, 0.01627011,  0.01956692, 0.0228279, 0.02293327, 0.03503116, 0.04383526]\n",
    "}\n",
    "dt= pd.DataFrame(data, columns = ['Year','Gradients' ])"
   ]
  },
  {
   "cell_type": "code",
   "execution_count": null,
   "metadata": {
    "collapsed": true
   },
   "outputs": [],
   "source": []
  },
  {
   "cell_type": "code",
   "execution_count": 31,
   "metadata": {},
   "outputs": [
    {
     "data": {
      "image/png": "[encoded data removed]",
      "text/plain": [
       "<matplotlib.figure.Figure at 0x1e0df030be0>"
      ]
     },
     "metadata": {},
     "output_type": "display_data"
    }
   ],
   "source": [
    "import matplotlib.pyplot as plt\n",
    "g=dt.plot.bar(x='Year', legend=False, style=\".-\")\n",
    "plt.ylabel('Gradient');\n",
    "plt.xlabel('Depth');"
   ]
  },
  {
   "cell_type": "markdown",
   "metadata": {
    "collapsed": true
   },
   "source": [
    "The plot is showing a gradual but steady increase of the gradient over the period of time from 1964 to 1980. "
   ]
  },
  {
   "cell_type": "code",
   "execution_count": null,
   "metadata": {
    "collapsed": true
   },
   "outputs": [],
   "source": []
  }
 ],
 "metadata": {
  "kernelspec": {
   "display_name": "Python 3",
   "language": "python",
   "name": "python3"
  },
  "language_info": {
   "codemirror_mode": {
    "name": "ipython",
    "version": 3
   },
   "file_extension": ".py",
   "mimetype": "text/x-python",
   "name": "python",
   "nbconvert_exporter": "python",
   "pygments_lexer": "ipython3",
   "version": "3.6.5"
  }
 },
 "nbformat": 4,
 "nbformat_minor": 2
}
